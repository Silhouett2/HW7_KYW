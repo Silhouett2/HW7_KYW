{
 "cells": [
  {
   "cell_type": "code",
   "execution_count": 18,
   "metadata": {},
   "outputs": [
    {
     "name": "stdout",
     "output_type": "stream",
     "text": [
      "           unit_price  Amount   total\n",
      "0  store1        30.0    60.0  1800.0\n",
      "           unit_price  Amount   total\n",
      "0  store1        30.0    60.0  1800.0\n",
      "1  store2        50.0    20.0  1000.0\n",
      "           unit_price  Amount   total\n",
      "0  store1        30.0    60.0  1800.0\n",
      "1  store2        50.0    20.0  1000.0\n",
      "2  store3        90.0    30.0  2700.0\n",
      "           unit_price  Amount   total\n",
      "0  store1        30.0    60.0  1800.0\n",
      "1  store2        50.0    20.0  1000.0\n",
      "2  store3        90.0    30.0  2700.0\n",
      "3  store4        50.0    60.0  3000.0\n",
      "Top two expensive entries:\n",
      "           unit_price  Amount   total\n",
      "3  store4        50.0    60.0  3000.0\n",
      "2  store3        90.0    30.0  2700.0\n"
     ]
    }
   ],
   "source": [
    "import pandas as pd\n",
    "\n",
    "account_book = pd.DataFrame(columns=['', 'unit_price', 'Amount', 'total'])\n",
    "\n",
    "global n\n",
    "n = 1\n",
    "\n",
    "def add_entry():\n",
    "    global n\n",
    "    unit_price = float(input(\"Enter a unit_price: \"))\n",
    "    amount = float(input(\"Enter the amount: \"))\n",
    "    total = unit_price * amount\n",
    "    name = \"store\" + str(n)\n",
    "\n",
    "    account_book.loc[len(account_book)] = [name, unit_price, amount, total]\n",
    "    n += 1\n",
    "\n",
    "def display_account_book():\n",
    "    print(account_book)\n",
    "\n",
    "def get_top_two_expensive_entries():\n",
    "    sorted_entries = account_book.sort_values(by='total', ascending=False)\n",
    "    top_two_entries = sorted_entries.head(2)\n",
    "    return top_two_entries\n",
    "\n",
    "\n",
    "while True:\n",
    "    inputstr = input(\"If you want to insert, press 'i'. If you want to quit, press 'q': \")\n",
    "    if inputstr == 'i':\n",
    "        add_entry()\n",
    "        display_account_book()\n",
    "    elif inputstr == 'q':\n",
    "        break\n",
    "    else:\n",
    "        print(\"Wrong input\")\n",
    "\n",
    "top_two_entries = get_top_two_expensive_entries()\n",
    "print(\"Top two expensive entries:\")\n",
    "print(top_two_entries)\n"
   ]
  }
 ],
 "metadata": {
  "kernelspec": {
   "display_name": "Python 3",
   "language": "python",
   "name": "python3"
  },
  "language_info": {
   "codemirror_mode": {
    "name": "ipython",
    "version": 3
   },
   "file_extension": ".py",
   "mimetype": "text/x-python",
   "name": "python",
   "nbconvert_exporter": "python",
   "pygments_lexer": "ipython3",
   "version": "3.11.3"
  },
  "orig_nbformat": 4
 },
 "nbformat": 4,
 "nbformat_minor": 2
}
